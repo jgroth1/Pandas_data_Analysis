{
 "cells": [
  {
   "cell_type": "markdown",
   "metadata": {},
   "source": [
    "# Heroes of Pymoli Analysis\n"
   ]
  },
  {
   "cell_type": "code",
   "execution_count": 1,
   "metadata": {},
   "outputs": [],
   "source": [
    "import pandas as pd\n",
    "import matplotlib.pyplot as plt\n",
    "import numpy as np"
   ]
  },
  {
   "cell_type": "code",
   "execution_count": 2,
   "metadata": {},
   "outputs": [
    {
     "data": {
      "text/html": [
       "<div>\n",
       "<style scoped>\n",
       "    .dataframe tbody tr th:only-of-type {\n",
       "        vertical-align: middle;\n",
       "    }\n",
       "\n",
       "    .dataframe tbody tr th {\n",
       "        vertical-align: top;\n",
       "    }\n",
       "\n",
       "    .dataframe thead th {\n",
       "        text-align: right;\n",
       "    }\n",
       "</style>\n",
       "<table border=\"1\" class=\"dataframe\">\n",
       "  <thead>\n",
       "    <tr style=\"text-align: right;\">\n",
       "      <th></th>\n",
       "      <th>Age</th>\n",
       "      <th>Gender</th>\n",
       "      <th>Item ID</th>\n",
       "      <th>Item Name</th>\n",
       "      <th>Price</th>\n",
       "      <th>SN</th>\n",
       "    </tr>\n",
       "  </thead>\n",
       "  <tbody>\n",
       "    <tr>\n",
       "      <th>0</th>\n",
       "      <td>38</td>\n",
       "      <td>Male</td>\n",
       "      <td>165</td>\n",
       "      <td>Bone Crushing Silver Skewer</td>\n",
       "      <td>3.37</td>\n",
       "      <td>Aelalis34</td>\n",
       "    </tr>\n",
       "    <tr>\n",
       "      <th>1</th>\n",
       "      <td>21</td>\n",
       "      <td>Male</td>\n",
       "      <td>119</td>\n",
       "      <td>Stormbringer, Dark Blade of Ending Misery</td>\n",
       "      <td>2.32</td>\n",
       "      <td>Eolo46</td>\n",
       "    </tr>\n",
       "    <tr>\n",
       "      <th>2</th>\n",
       "      <td>34</td>\n",
       "      <td>Male</td>\n",
       "      <td>174</td>\n",
       "      <td>Primitive Blade</td>\n",
       "      <td>2.46</td>\n",
       "      <td>Assastnya25</td>\n",
       "    </tr>\n",
       "    <tr>\n",
       "      <th>3</th>\n",
       "      <td>21</td>\n",
       "      <td>Male</td>\n",
       "      <td>92</td>\n",
       "      <td>Final Critic</td>\n",
       "      <td>1.36</td>\n",
       "      <td>Pheusrical25</td>\n",
       "    </tr>\n",
       "    <tr>\n",
       "      <th>4</th>\n",
       "      <td>23</td>\n",
       "      <td>Male</td>\n",
       "      <td>63</td>\n",
       "      <td>Stormfury Mace</td>\n",
       "      <td>1.27</td>\n",
       "      <td>Aela59</td>\n",
       "    </tr>\n",
       "  </tbody>\n",
       "</table>\n",
       "</div>"
      ],
      "text/plain": [
       "   Age Gender  Item ID                                  Item Name  Price  \\\n",
       "0   38   Male      165                Bone Crushing Silver Skewer   3.37   \n",
       "1   21   Male      119  Stormbringer, Dark Blade of Ending Misery   2.32   \n",
       "2   34   Male      174                            Primitive Blade   2.46   \n",
       "3   21   Male       92                               Final Critic   1.36   \n",
       "4   23   Male       63                             Stormfury Mace   1.27   \n",
       "\n",
       "             SN  \n",
       "0     Aelalis34  \n",
       "1        Eolo46  \n",
       "2   Assastnya25  \n",
       "3  Pheusrical25  \n",
       "4        Aela59  "
      ]
     },
     "execution_count": 2,
     "metadata": {},
     "output_type": "execute_result"
    }
   ],
   "source": [
    "path = 'purchase_data.json'\n",
    "purchase_data_df = pd.read_json(path)\n",
    "purchase_data_df.head()"
   ]
  },
  {
   "cell_type": "code",
   "execution_count": 3,
   "metadata": {},
   "outputs": [
    {
     "data": {
      "text/plain": [
       "573"
      ]
     },
     "execution_count": 3,
     "metadata": {},
     "output_type": "execute_result"
    }
   ],
   "source": [
    "num_players = len(purchase_data_df['SN'].unique())\n",
    "num_players"
   ]
  },
  {
   "cell_type": "code",
   "execution_count": 4,
   "metadata": {},
   "outputs": [
    {
     "data": {
      "text/plain": [
       "183"
      ]
     },
     "execution_count": 4,
     "metadata": {},
     "output_type": "execute_result"
    }
   ],
   "source": [
    "unique_items = len(purchase_data_df['Item ID'].unique())\n",
    "unique_items"
   ]
  },
  {
   "cell_type": "code",
   "execution_count": 5,
   "metadata": {},
   "outputs": [
    {
     "data": {
      "text/plain": [
       "2.93"
      ]
     },
     "execution_count": 5,
     "metadata": {},
     "output_type": "execute_result"
    }
   ],
   "source": [
    "avg_purchase_price = round(purchase_data_df['Price'].mean(), 2)\n",
    "avg_purchase_price"
   ]
  },
  {
   "cell_type": "code",
   "execution_count": 6,
   "metadata": {},
   "outputs": [
    {
     "data": {
      "text/plain": [
       "780"
      ]
     },
     "execution_count": 6,
     "metadata": {},
     "output_type": "execute_result"
    }
   ],
   "source": [
    "num_purchases = purchase_data_df['Price'].size\n",
    "num_purchases"
   ]
  },
  {
   "cell_type": "code",
   "execution_count": 7,
   "metadata": {},
   "outputs": [
    {
     "data": {
      "text/plain": [
       "2286.33"
      ]
     },
     "execution_count": 7,
     "metadata": {},
     "output_type": "execute_result"
    }
   ],
   "source": [
    "tot_revenue = purchase_data_df['Price'].sum()\n",
    "tot_revenue"
   ]
  },
  {
   "cell_type": "markdown",
   "metadata": {},
   "source": [
    "# Gender Demographics:\n",
    "\n",
    "\n",
    "## What I need to know:\n",
    "\n",
    "1. percentage and count of Male\n",
    "2. percentage and count of Female\n",
    "3. percentage and count of other / Non-Disclosed\n",
    "\n",
    "## what I know:\n",
    "\n",
    "1. there are more than one representation of some but not all players. the max representation is 5 times.\n",
    "2. Collumn Gender contains the information needed however it has duplicates.\n",
    "3. there are 573 unique players.\n",
    "4. there are 780 rows in the dataframe.\n",
    "\n",
    "## what I need to do:\n",
    "\n",
    "1. drop the rows with duplicate players.\n",
    "2. make new dataframe\n",
    "3. groupby Gender\n",
    "4. count gender groups\n",
    "5. divide counts by total number of players to get percentages."
   ]
  },
  {
   "cell_type": "code",
   "execution_count": 8,
   "metadata": {},
   "outputs": [
    {
     "data": {
      "text/html": [
       "<div>\n",
       "<style scoped>\n",
       "    .dataframe tbody tr th:only-of-type {\n",
       "        vertical-align: middle;\n",
       "    }\n",
       "\n",
       "    .dataframe tbody tr th {\n",
       "        vertical-align: top;\n",
       "    }\n",
       "\n",
       "    .dataframe thead th {\n",
       "        text-align: right;\n",
       "    }\n",
       "</style>\n",
       "<table border=\"1\" class=\"dataframe\">\n",
       "  <thead>\n",
       "    <tr style=\"text-align: right;\">\n",
       "      <th></th>\n",
       "      <th>Gender Count</th>\n",
       "      <th>Gender Percentage</th>\n",
       "    </tr>\n",
       "    <tr>\n",
       "      <th>Gender</th>\n",
       "      <th></th>\n",
       "      <th></th>\n",
       "    </tr>\n",
       "  </thead>\n",
       "  <tbody>\n",
       "    <tr>\n",
       "      <th>Female</th>\n",
       "      <td>100</td>\n",
       "      <td>17.45</td>\n",
       "    </tr>\n",
       "    <tr>\n",
       "      <th>Male</th>\n",
       "      <td>465</td>\n",
       "      <td>81.15</td>\n",
       "    </tr>\n",
       "    <tr>\n",
       "      <th>Other / Non-Disclosed</th>\n",
       "      <td>8</td>\n",
       "      <td>1.40</td>\n",
       "    </tr>\n",
       "  </tbody>\n",
       "</table>\n",
       "</div>"
      ],
      "text/plain": [
       "                       Gender Count  Gender Percentage\n",
       "Gender                                                \n",
       "Female                          100              17.45\n",
       "Male                            465              81.15\n",
       "Other / Non-Disclosed             8               1.40"
      ]
     },
     "execution_count": 8,
     "metadata": {},
     "output_type": "execute_result"
    }
   ],
   "source": [
    "dropped_duplicate_SN = purchase_data_df.drop_duplicates(subset='SN',keep='first')\n",
    "gender_grouped_df = dropped_duplicate_SN.groupby('Gender').count()\n",
    "gender_renamed = gender_grouped_df.rename(index=str, columns={'Age': 'Gender Count', 'Item ID': 'Gender Percentage'})\n",
    "gender_renamed['Gender Percentage'] = round((gender_renamed.loc[:,'Gender Percentage'] / num_players) * 100, 2)\n",
    "gender_count = gender_renamed.loc[:, ['Gender Count', 'Gender Percentage']]\n",
    "gender_count"
   ]
  },
  {
   "cell_type": "markdown",
   "metadata": {},
   "source": [
    "# Gender Count:"
   ]
  },
  {
   "cell_type": "code",
   "execution_count": 9,
   "metadata": {},
   "outputs": [
    {
     "data": {
      "text/plain": [
       "Text(0,0.5,'')"
      ]
     },
     "execution_count": 9,
     "metadata": {},
     "output_type": "execute_result"
    },
    {
     "data": {
      "image/png": "[encoded data removed]",
      "text/plain": [
       "<matplotlib.figure.Figure at 0x11544f400>"
      ]
     },
     "metadata": {},
     "output_type": "display_data"
    }
   ],
   "source": [
    "ax = plt.subplot()\n",
    "gender_count['Gender Count'].plot(kind='pie', legend=False, ax=ax, shadow=True, explode=(0.1, 0.1, 0.1), colors=['pink', 'skyblue', 'lightgreen'])\n",
    "ax.set_title('Gender Count')\n",
    "ax.set_ylabel('')"
   ]
  },
  {
   "cell_type": "markdown",
   "metadata": {},
   "source": [
    "# Gender Percentages"
   ]
  },
  {
   "cell_type": "code",
   "execution_count": 10,
   "metadata": {},
   "outputs": [
    {
     "data": {
      "text/plain": [
       "Text(0,0.5,'')"
      ]
     },
     "execution_count": 10,
     "metadata": {},
     "output_type": "execute_result"
    },
    {
     "data": {
      "image/png": "[encoded data removed]",
      "text/plain": [
       "<matplotlib.figure.Figure at 0x11549e518>"
      ]
     },
     "metadata": {},
     "output_type": "display_data"
    }
   ],
   "source": [
    "ax1 = plt.subplot()\n",
    "gender_count['Gender Percentage'].plot(kind='pie', legend=False, ax=ax1, shadow=True, explode=(0.1, 0.1, 0.1), colors=['pink', 'skyblue', 'lightgreen'])\n",
    "ax1.set_title('Gender Percentage')\n",
    "ax1.set_ylabel('')"
   ]
  },
  {
   "cell_type": "code",
   "execution_count": 11,
   "metadata": {},
   "outputs": [],
   "source": [
    "gender_groupby = purchase_data_df.groupby('Gender')"
   ]
  },
  {
   "cell_type": "markdown",
   "metadata": {},
   "source": [
    "# Purchase Count by Gender:"
   ]
  },
  {
   "cell_type": "code",
   "execution_count": 12,
   "metadata": {},
   "outputs": [
    {
     "data": {
      "text/html": [
       "<div>\n",
       "<style scoped>\n",
       "    .dataframe tbody tr th:only-of-type {\n",
       "        vertical-align: middle;\n",
       "    }\n",
       "\n",
       "    .dataframe tbody tr th {\n",
       "        vertical-align: top;\n",
       "    }\n",
       "\n",
       "    .dataframe thead th {\n",
       "        text-align: right;\n",
       "    }\n",
       "</style>\n",
       "<table border=\"1\" class=\"dataframe\">\n",
       "  <thead>\n",
       "    <tr style=\"text-align: right;\">\n",
       "      <th></th>\n",
       "      <th>Purchase Count</th>\n",
       "    </tr>\n",
       "    <tr>\n",
       "      <th>Gender</th>\n",
       "      <th></th>\n",
       "    </tr>\n",
       "  </thead>\n",
       "  <tbody>\n",
       "    <tr>\n",
       "      <th>Female</th>\n",
       "      <td>136</td>\n",
       "    </tr>\n",
       "    <tr>\n",
       "      <th>Male</th>\n",
       "      <td>633</td>\n",
       "    </tr>\n",
       "    <tr>\n",
       "      <th>Other / Non-Disclosed</th>\n",
       "      <td>11</td>\n",
       "    </tr>\n",
       "  </tbody>\n",
       "</table>\n",
       "</div>"
      ],
      "text/plain": [
       "                       Purchase Count\n",
       "Gender                               \n",
       "Female                            136\n",
       "Male                              633\n",
       "Other / Non-Disclosed              11"
      ]
     },
     "execution_count": 12,
     "metadata": {},
     "output_type": "execute_result"
    }
   ],
   "source": [
    "count_df = gender_groupby.count()\n",
    "count = count_df.loc[:,'Age']\n",
    "purchase_count_df = count.to_frame()\n",
    "purchase_count_df = purchase_count_df.rename(index=str, columns={'Age': 'Purchase Count'})\n",
    "purchase_count_df\n",
    "#purchase_count_df = count_df(index=str, columns={'Age': 'Purchase Count'})"
   ]
  },
  {
   "cell_type": "code",
   "execution_count": 13,
   "metadata": {},
   "outputs": [
    {
     "data": {
      "text/plain": [
       "Text(0,0.5,'')"
      ]
     },
     "execution_count": 13,
     "metadata": {},
     "output_type": "execute_result"
    },
    {
     "data": {
      "image/png": "[encoded data removed]",
      "text/plain": [
       "<matplotlib.figure.Figure at 0x1154c1dd8>"
      ]
     },
     "metadata": {},
     "output_type": "display_data"
    }
   ],
   "source": [
    "ax2 = plt.subplot()\n",
    "purchase_count_df['Purchase Count'].plot(kind='pie', legend=False, ax=ax2, shadow=True, explode=(0.1, 0.1, 0.1), colors=['pink', 'skyblue', 'lightgreen'])\n",
    "ax2.set_title('Purchase Count')\n",
    "ax2.set_ylabel('')"
   ]
  },
  {
   "cell_type": "markdown",
   "metadata": {},
   "source": [
    "# Average Price by Gender:"
   ]
  },
  {
   "cell_type": "code",
   "execution_count": 14,
   "metadata": {},
   "outputs": [
    {
     "data": {
      "text/html": [
       "<div>\n",
       "<style scoped>\n",
       "    .dataframe tbody tr th:only-of-type {\n",
       "        vertical-align: middle;\n",
       "    }\n",
       "\n",
       "    .dataframe tbody tr th {\n",
       "        vertical-align: top;\n",
       "    }\n",
       "\n",
       "    .dataframe thead th {\n",
       "        text-align: right;\n",
       "    }\n",
       "</style>\n",
       "<table border=\"1\" class=\"dataframe\">\n",
       "  <thead>\n",
       "    <tr style=\"text-align: right;\">\n",
       "      <th></th>\n",
       "      <th>Avg Purchase Price</th>\n",
       "    </tr>\n",
       "    <tr>\n",
       "      <th>Gender</th>\n",
       "      <th></th>\n",
       "    </tr>\n",
       "  </thead>\n",
       "  <tbody>\n",
       "    <tr>\n",
       "      <th>Female</th>\n",
       "      <td>2.815515</td>\n",
       "    </tr>\n",
       "    <tr>\n",
       "      <th>Male</th>\n",
       "      <td>2.950521</td>\n",
       "    </tr>\n",
       "    <tr>\n",
       "      <th>Other / Non-Disclosed</th>\n",
       "      <td>3.249091</td>\n",
       "    </tr>\n",
       "  </tbody>\n",
       "</table>\n",
       "</div>"
      ],
      "text/plain": [
       "                       Avg Purchase Price\n",
       "Gender                                   \n",
       "Female                           2.815515\n",
       "Male                             2.950521\n",
       "Other / Non-Disclosed            3.249091"
      ]
     },
     "execution_count": 14,
     "metadata": {},
     "output_type": "execute_result"
    }
   ],
   "source": [
    "avg_df = gender_groupby.mean()\n",
    "avg = avg_df.loc[:,'Price']\n",
    "avg_price_df = avg.to_frame()\n",
    "avg_price_df = avg_price_df.rename(index=str, columns={'Price': 'Avg Purchase Price'})\n",
    "avg_price_df"
   ]
  },
  {
   "cell_type": "code",
   "execution_count": 15,
   "metadata": {},
   "outputs": [
    {
     "data": {
      "text/plain": [
       "Text(0.5,1,'Average Price of Items by Gender')"
      ]
     },
     "execution_count": 15,
     "metadata": {},
     "output_type": "execute_result"
    },
    {
     "data": {
      "image/png": "[encoded data removed]",
      "text/plain": [
       "<matplotlib.figure.Figure at 0x1154a7940>"
      ]
     },
     "metadata": {},
     "output_type": "display_data"
    }
   ],
   "source": [
    "ax3 = plt.subplot()\n",
    "avg_price_df.plot(kind='barh', legend=False, ax=ax3, color='r', edgecolor='k', linewidth=3)\n",
    "ax3.set_xlabel('Average Price (Dollars)')\n",
    "ax3.set_title('Average Price of Items by Gender')"
   ]
  },
  {
   "cell_type": "markdown",
   "metadata": {},
   "source": [
    "# Total Purchase Value by Gender:"
   ]
  },
  {
   "cell_type": "code",
   "execution_count": 16,
   "metadata": {},
   "outputs": [
    {
     "data": {
      "text/html": [
       "<div>\n",
       "<style scoped>\n",
       "    .dataframe tbody tr th:only-of-type {\n",
       "        vertical-align: middle;\n",
       "    }\n",
       "\n",
       "    .dataframe tbody tr th {\n",
       "        vertical-align: top;\n",
       "    }\n",
       "\n",
       "    .dataframe thead th {\n",
       "        text-align: right;\n",
       "    }\n",
       "</style>\n",
       "<table border=\"1\" class=\"dataframe\">\n",
       "  <thead>\n",
       "    <tr style=\"text-align: right;\">\n",
       "      <th></th>\n",
       "      <th>Total Purchase Value</th>\n",
       "    </tr>\n",
       "    <tr>\n",
       "      <th>Gender</th>\n",
       "      <th></th>\n",
       "    </tr>\n",
       "  </thead>\n",
       "  <tbody>\n",
       "    <tr>\n",
       "      <th>Female</th>\n",
       "      <td>382.91</td>\n",
       "    </tr>\n",
       "    <tr>\n",
       "      <th>Male</th>\n",
       "      <td>1867.68</td>\n",
       "    </tr>\n",
       "    <tr>\n",
       "      <th>Other / Non-Disclosed</th>\n",
       "      <td>35.74</td>\n",
       "    </tr>\n",
       "  </tbody>\n",
       "</table>\n",
       "</div>"
      ],
      "text/plain": [
       "                       Total Purchase Value\n",
       "Gender                                     \n",
       "Female                               382.91\n",
       "Male                                1867.68\n",
       "Other / Non-Disclosed                 35.74"
      ]
     },
     "execution_count": 16,
     "metadata": {},
     "output_type": "execute_result"
    }
   ],
   "source": [
    "total_df = gender_groupby.sum()\n",
    "total = total_df.loc[:,'Price']\n",
    "total_price_df = total.to_frame()\n",
    "total_price_df = total_price_df.rename(index=str, columns={'Price': 'Total Purchase Value'})\n",
    "total_price_df"
   ]
  },
  {
   "cell_type": "code",
   "execution_count": 17,
   "metadata": {},
   "outputs": [
    {
     "data": {
      "text/plain": [
       "Text(0.5,1,'Total Purchase Value by Gender')"
      ]
     },
     "execution_count": 17,
     "metadata": {},
     "output_type": "execute_result"
    },
    {
     "data": {
      "image/png": "[encoded data removed]",
      "text/plain": [
       "<matplotlib.figure.Figure at 0x11bb53e10>"
      ]
     },
     "metadata": {},
     "output_type": "display_data"
    }
   ],
   "source": [
    "ax4 = plt.subplot()\n",
    "total_price_df.plot(kind='barh', legend=False, ax=ax4, color='r', edgecolor='k', linewidth=3)\n",
    "ax4.set_xlabel('Total Purchase Value (Dollars)')\n",
    "ax4.set_title('Total Purchase Value by Gender')"
   ]
  },
  {
   "cell_type": "markdown",
   "metadata": {},
   "source": [
    "# Normalized Totals by Gender:"
   ]
  },
  {
   "cell_type": "code",
   "execution_count": 18,
   "metadata": {},
   "outputs": [
    {
     "data": {
      "text/html": [
       "<div>\n",
       "<style scoped>\n",
       "    .dataframe tbody tr th:only-of-type {\n",
       "        vertical-align: middle;\n",
       "    }\n",
       "\n",
       "    .dataframe tbody tr th {\n",
       "        vertical-align: top;\n",
       "    }\n",
       "\n",
       "    .dataframe thead th {\n",
       "        text-align: right;\n",
       "    }\n",
       "</style>\n",
       "<table border=\"1\" class=\"dataframe\">\n",
       "  <thead>\n",
       "    <tr style=\"text-align: right;\">\n",
       "      <th></th>\n",
       "      <th>Normalized Purchase Value</th>\n",
       "    </tr>\n",
       "    <tr>\n",
       "      <th>Gender</th>\n",
       "      <th></th>\n",
       "    </tr>\n",
       "  </thead>\n",
       "  <tbody>\n",
       "    <tr>\n",
       "      <th>Female</th>\n",
       "      <td>2.815515</td>\n",
       "    </tr>\n",
       "    <tr>\n",
       "      <th>Male</th>\n",
       "      <td>2.950521</td>\n",
       "    </tr>\n",
       "    <tr>\n",
       "      <th>Other / Non-Disclosed</th>\n",
       "      <td>3.249091</td>\n",
       "    </tr>\n",
       "  </tbody>\n",
       "</table>\n",
       "</div>"
      ],
      "text/plain": [
       "                       Normalized Purchase Value\n",
       "Gender                                          \n",
       "Female                                  2.815515\n",
       "Male                                    2.950521\n",
       "Other / Non-Disclosed                   3.249091"
      ]
     },
     "execution_count": 18,
     "metadata": {},
     "output_type": "execute_result"
    }
   ],
   "source": [
    "normalized_price_df = total_price_df.assign()\n",
    "normalized_price_df.iloc[0,0] = normalized_price_df.iloc[0,0] / purchase_count_df.iloc[0,0]\n",
    "normalized_price_df.iloc[1,0] = normalized_price_df.iloc[1,0] / purchase_count_df.iloc[1,0]\n",
    "normalized_price_df.iloc[2,0] = normalized_price_df.iloc[2,0] / purchase_count_df.iloc[2,0]\n",
    "normalized_price_df.rename(index=str, columns={'Total Purchase Value': 'Normalized Purchase Value'}, inplace=True)\n",
    "normalized_price_df"
   ]
  },
  {
   "cell_type": "markdown",
   "metadata": {},
   "source": [
    "# Age Demographics:"
   ]
  },
  {
   "cell_type": "markdown",
   "metadata": {},
   "source": [
    "# Age Data Binning:\n",
    "\n",
    "1. Age data is binned into 9 bins\n",
    "2. bins are: (5,10], (10,15], (15,20], (20,25], (25,30], (30,35], (35,40], (40,45], (45,50]\n",
    "3. Age bins are assigned label and added to the column 'Age Range'"
   ]
  },
  {
   "cell_type": "code",
   "execution_count": 19,
   "metadata": {},
   "outputs": [
    {
     "name": "stdout",
     "output_type": "stream",
     "text": [
      "7\n"
     ]
    },
    {
     "data": {
      "text/html": [
       "<div>\n",
       "<style scoped>\n",
       "    .dataframe tbody tr th:only-of-type {\n",
       "        vertical-align: middle;\n",
       "    }\n",
       "\n",
       "    .dataframe tbody tr th {\n",
       "        vertical-align: top;\n",
       "    }\n",
       "\n",
       "    .dataframe thead th {\n",
       "        text-align: right;\n",
       "    }\n",
       "</style>\n",
       "<table border=\"1\" class=\"dataframe\">\n",
       "  <thead>\n",
       "    <tr style=\"text-align: right;\">\n",
       "      <th></th>\n",
       "      <th>Age</th>\n",
       "      <th>Gender</th>\n",
       "      <th>Item ID</th>\n",
       "      <th>Item Name</th>\n",
       "      <th>Price</th>\n",
       "      <th>SN</th>\n",
       "      <th>Age Range</th>\n",
       "    </tr>\n",
       "  </thead>\n",
       "  <tbody>\n",
       "    <tr>\n",
       "      <th>264</th>\n",
       "      <td>45</td>\n",
       "      <td>Male</td>\n",
       "      <td>124</td>\n",
       "      <td>Venom Claymore</td>\n",
       "      <td>2.72</td>\n",
       "      <td>Marassaya49</td>\n",
       "      <td>41-45</td>\n",
       "    </tr>\n",
       "    <tr>\n",
       "      <th>644</th>\n",
       "      <td>43</td>\n",
       "      <td>Male</td>\n",
       "      <td>57</td>\n",
       "      <td>Despair, Favor of Due Diligence</td>\n",
       "      <td>3.81</td>\n",
       "      <td>Raesurdil91</td>\n",
       "      <td>41-45</td>\n",
       "    </tr>\n",
       "    <tr>\n",
       "      <th>319</th>\n",
       "      <td>42</td>\n",
       "      <td>Male</td>\n",
       "      <td>110</td>\n",
       "      <td>Suspension</td>\n",
       "      <td>2.11</td>\n",
       "      <td>Lisista27</td>\n",
       "      <td>41-45</td>\n",
       "    </tr>\n",
       "    <tr>\n",
       "      <th>212</th>\n",
       "      <td>40</td>\n",
       "      <td>Male</td>\n",
       "      <td>111</td>\n",
       "      <td>Misery's End</td>\n",
       "      <td>2.91</td>\n",
       "      <td>Yarmol79</td>\n",
       "      <td>36-40</td>\n",
       "    </tr>\n",
       "    <tr>\n",
       "      <th>478</th>\n",
       "      <td>40</td>\n",
       "      <td>Male</td>\n",
       "      <td>168</td>\n",
       "      <td>Sun Strike, Jaws of Twisted Visions</td>\n",
       "      <td>2.64</td>\n",
       "      <td>Yaralnura48</td>\n",
       "      <td>36-40</td>\n",
       "    </tr>\n",
       "    <tr>\n",
       "      <th>14</th>\n",
       "      <td>40</td>\n",
       "      <td>Male</td>\n",
       "      <td>44</td>\n",
       "      <td>Bonecarvin Battle Axe</td>\n",
       "      <td>2.46</td>\n",
       "      <td>Sundast29</td>\n",
       "      <td>36-40</td>\n",
       "    </tr>\n",
       "    <tr>\n",
       "      <th>179</th>\n",
       "      <td>40</td>\n",
       "      <td>Male</td>\n",
       "      <td>70</td>\n",
       "      <td>Hope's End</td>\n",
       "      <td>3.89</td>\n",
       "      <td>Chanosiaya39</td>\n",
       "      <td>36-40</td>\n",
       "    </tr>\n",
       "    <tr>\n",
       "      <th>357</th>\n",
       "      <td>40</td>\n",
       "      <td>Male</td>\n",
       "      <td>65</td>\n",
       "      <td>Conqueror Adamantite Mace</td>\n",
       "      <td>1.96</td>\n",
       "      <td>Sundast29</td>\n",
       "      <td>36-40</td>\n",
       "    </tr>\n",
       "    <tr>\n",
       "      <th>186</th>\n",
       "      <td>40</td>\n",
       "      <td>Male</td>\n",
       "      <td>144</td>\n",
       "      <td>Blood Infused Guardian</td>\n",
       "      <td>2.86</td>\n",
       "      <td>Chanosiaya39</td>\n",
       "      <td>36-40</td>\n",
       "    </tr>\n",
       "    <tr>\n",
       "      <th>238</th>\n",
       "      <td>40</td>\n",
       "      <td>Female</td>\n",
       "      <td>49</td>\n",
       "      <td>The Oculus, Token of Lost Worlds</td>\n",
       "      <td>4.23</td>\n",
       "      <td>Chamadar27</td>\n",
       "      <td>36-40</td>\n",
       "    </tr>\n",
       "  </tbody>\n",
       "</table>\n",
       "</div>"
      ],
      "text/plain": [
       "     Age  Gender  Item ID                            Item Name  Price  \\\n",
       "264   45    Male      124                       Venom Claymore   2.72   \n",
       "644   43    Male       57      Despair, Favor of Due Diligence   3.81   \n",
       "319   42    Male      110                           Suspension   2.11   \n",
       "212   40    Male      111                         Misery's End   2.91   \n",
       "478   40    Male      168  Sun Strike, Jaws of Twisted Visions   2.64   \n",
       "14    40    Male       44                Bonecarvin Battle Axe   2.46   \n",
       "179   40    Male       70                           Hope's End   3.89   \n",
       "357   40    Male       65            Conqueror Adamantite Mace   1.96   \n",
       "186   40    Male      144               Blood Infused Guardian   2.86   \n",
       "238   40  Female       49     The Oculus, Token of Lost Worlds   4.23   \n",
       "\n",
       "               SN Age Range  \n",
       "264   Marassaya49     41-45  \n",
       "644   Raesurdil91     41-45  \n",
       "319     Lisista27     41-45  \n",
       "212      Yarmol79     36-40  \n",
       "478   Yaralnura48     36-40  \n",
       "14      Sundast29     36-40  \n",
       "179  Chanosiaya39     36-40  \n",
       "357     Sundast29     36-40  \n",
       "186  Chanosiaya39     36-40  \n",
       "238    Chamadar27     36-40  "
      ]
     },
     "execution_count": 19,
     "metadata": {},
     "output_type": "execute_result"
    }
   ],
   "source": [
    "print(purchase_data_df['Age'].min())\n",
    "bin = np.arange(5,55,5)\n",
    "labels = ['5-10', '11-15', '16-20', '21-25', '26-30', '31-35', '36-40', '41-45','46-50']\n",
    "purchase_data_df['Age Range'] = pd.cut(purchase_data_df['Age'], bin, labels=labels) \n",
    "purchase_data_df.sort_values('Age', ascending=False).head(10)\n"
   ]
  },
  {
   "cell_type": "markdown",
   "metadata": {},
   "source": [
    "# Grouping by Age Range:"
   ]
  },
  {
   "cell_type": "code",
   "execution_count": 20,
   "metadata": {},
   "outputs": [],
   "source": [
    "age_range_groupby = purchase_data_df.groupby('Age Range')"
   ]
  },
  {
   "cell_type": "markdown",
   "metadata": {},
   "source": [
    "# Purchase Count by Age Range:"
   ]
  },
  {
   "cell_type": "code",
   "execution_count": 21,
   "metadata": {},
   "outputs": [
    {
     "data": {
      "text/html": [
       "<div>\n",
       "<style scoped>\n",
       "    .dataframe tbody tr th:only-of-type {\n",
       "        vertical-align: middle;\n",
       "    }\n",
       "\n",
       "    .dataframe tbody tr th {\n",
       "        vertical-align: top;\n",
       "    }\n",
       "\n",
       "    .dataframe thead th {\n",
       "        text-align: right;\n",
       "    }\n",
       "</style>\n",
       "<table border=\"1\" class=\"dataframe\">\n",
       "  <thead>\n",
       "    <tr style=\"text-align: right;\">\n",
       "      <th></th>\n",
       "      <th>Purchase Count</th>\n",
       "    </tr>\n",
       "    <tr>\n",
       "      <th>Age Range</th>\n",
       "      <th></th>\n",
       "    </tr>\n",
       "  </thead>\n",
       "  <tbody>\n",
       "    <tr>\n",
       "      <th>5-10</th>\n",
       "      <td>32</td>\n",
       "    </tr>\n",
       "    <tr>\n",
       "      <th>11-15</th>\n",
       "      <td>78</td>\n",
       "    </tr>\n",
       "    <tr>\n",
       "      <th>16-20</th>\n",
       "      <td>184</td>\n",
       "    </tr>\n",
       "    <tr>\n",
       "      <th>21-25</th>\n",
       "      <td>305</td>\n",
       "    </tr>\n",
       "    <tr>\n",
       "      <th>26-30</th>\n",
       "      <td>76</td>\n",
       "    </tr>\n",
       "    <tr>\n",
       "      <th>31-35</th>\n",
       "      <td>58</td>\n",
       "    </tr>\n",
       "    <tr>\n",
       "      <th>36-40</th>\n",
       "      <td>44</td>\n",
       "    </tr>\n",
       "    <tr>\n",
       "      <th>41-45</th>\n",
       "      <td>3</td>\n",
       "    </tr>\n",
       "    <tr>\n",
       "      <th>46-50</th>\n",
       "      <td>0</td>\n",
       "    </tr>\n",
       "  </tbody>\n",
       "</table>\n",
       "</div>"
      ],
      "text/plain": [
       "           Purchase Count\n",
       "Age Range                \n",
       "5-10                   32\n",
       "11-15                  78\n",
       "16-20                 184\n",
       "21-25                 305\n",
       "26-30                  76\n",
       "31-35                  58\n",
       "36-40                  44\n",
       "41-45                   3\n",
       "46-50                   0"
      ]
     },
     "execution_count": 21,
     "metadata": {},
     "output_type": "execute_result"
    }
   ],
   "source": [
    "age_range_count = age_range_groupby.count()\n",
    "age_range_purchase_count = age_range_count['Item ID'].to_frame()\n",
    "age_range_purchase_count = age_range_purchase_count.rename(index=str, columns={'Item ID': 'Purchase Count'})\n",
    "age_range_purchase_count"
   ]
  },
  {
   "cell_type": "code",
   "execution_count": 22,
   "metadata": {},
   "outputs": [
    {
     "data": {
      "text/plain": [
       "Text(0,0.5,'')"
      ]
     },
     "execution_count": 22,
     "metadata": {},
     "output_type": "execute_result"
    },
    {
     "data": {
      "image/png": "[encoded data removed]",
      "text/plain": [
       "<matplotlib.figure.Figure at 0x11bc5a898>"
      ]
     },
     "metadata": {},
     "output_type": "display_data"
    }
   ],
   "source": [
    "ax5 = plt.subplot()\n",
    "age_range_purchase_count['Purchase Count'].plot(kind='pie', ax=ax5, explode=(0.1,0.1,0.1,0.1,0.1,0.1,0.1,0.1,0.1))\n",
    "ax5.set_title('Purchase Count by Age Range')\n",
    "ax5.set_ylabel('')"
   ]
  },
  {
   "cell_type": "markdown",
   "metadata": {},
   "source": [
    "# Average Purchase Price by Age Range:"
   ]
  },
  {
   "cell_type": "code",
   "execution_count": 23,
   "metadata": {},
   "outputs": [
    {
     "data": {
      "text/html": [
       "<div>\n",
       "<style scoped>\n",
       "    .dataframe tbody tr th:only-of-type {\n",
       "        vertical-align: middle;\n",
       "    }\n",
       "\n",
       "    .dataframe tbody tr th {\n",
       "        vertical-align: top;\n",
       "    }\n",
       "\n",
       "    .dataframe thead th {\n",
       "        text-align: right;\n",
       "    }\n",
       "</style>\n",
       "<table border=\"1\" class=\"dataframe\">\n",
       "  <thead>\n",
       "    <tr style=\"text-align: right;\">\n",
       "      <th></th>\n",
       "      <th>Average Purchase Price</th>\n",
       "    </tr>\n",
       "    <tr>\n",
       "      <th>Age Range</th>\n",
       "      <th></th>\n",
       "    </tr>\n",
       "  </thead>\n",
       "  <tbody>\n",
       "    <tr>\n",
       "      <th>5-10</th>\n",
       "      <td>3.019375</td>\n",
       "    </tr>\n",
       "    <tr>\n",
       "      <th>11-15</th>\n",
       "      <td>2.873718</td>\n",
       "    </tr>\n",
       "    <tr>\n",
       "      <th>16-20</th>\n",
       "      <td>2.873587</td>\n",
       "    </tr>\n",
       "    <tr>\n",
       "      <th>21-25</th>\n",
       "      <td>2.959377</td>\n",
       "    </tr>\n",
       "    <tr>\n",
       "      <th>26-30</th>\n",
       "      <td>2.892368</td>\n",
       "    </tr>\n",
       "    <tr>\n",
       "      <th>31-35</th>\n",
       "      <td>3.073448</td>\n",
       "    </tr>\n",
       "    <tr>\n",
       "      <th>36-40</th>\n",
       "      <td>2.897500</td>\n",
       "    </tr>\n",
       "    <tr>\n",
       "      <th>41-45</th>\n",
       "      <td>2.880000</td>\n",
       "    </tr>\n",
       "    <tr>\n",
       "      <th>46-50</th>\n",
       "      <td>NaN</td>\n",
       "    </tr>\n",
       "  </tbody>\n",
       "</table>\n",
       "</div>"
      ],
      "text/plain": [
       "           Average Purchase Price\n",
       "Age Range                        \n",
       "5-10                     3.019375\n",
       "11-15                    2.873718\n",
       "16-20                    2.873587\n",
       "21-25                    2.959377\n",
       "26-30                    2.892368\n",
       "31-35                    3.073448\n",
       "36-40                    2.897500\n",
       "41-45                    2.880000\n",
       "46-50                         NaN"
      ]
     },
     "execution_count": 23,
     "metadata": {},
     "output_type": "execute_result"
    }
   ],
   "source": [
    "age_range_avg = age_range_groupby.mean()\n",
    "age_range_avg_price = age_range_avg['Price'].to_frame()\n",
    "age_range_avg_price = age_range_avg_price.rename(index=str, columns={'Price':'Average Purchase Price'})\n",
    "age_range_avg_price"
   ]
  },
  {
   "cell_type": "code",
   "execution_count": 24,
   "metadata": {},
   "outputs": [
    {
     "data": {
      "text/plain": [
       "Text(0.5,1,'Average Purchase Price by Age Range')"
      ]
     },
     "execution_count": 24,
     "metadata": {},
     "output_type": "execute_result"
    },
    {
     "data": {
      "image/png": "[encoded data removed]",
      "text/plain": [
       "<matplotlib.figure.Figure at 0x11bcff940>"
      ]
     },
     "metadata": {},
     "output_type": "display_data"
    }
   ],
   "source": [
    "ax6 = plt.subplot()\n",
    "age_range_avg_price.plot(kind='barh', legend=False, ax=ax6, color='r', edgecolor='k', linewidth=3)\n",
    "ax6.set_xlabel('Avergage Purchase Price')\n",
    "ax6.set_title('Average Purchase Price by Age Range')"
   ]
  },
  {
   "cell_type": "markdown",
   "metadata": {},
   "source": [
    "# Total Purchase Value by Age Range:"
   ]
  },
  {
   "cell_type": "code",
   "execution_count": 25,
   "metadata": {},
   "outputs": [
    {
     "data": {
      "text/html": [
       "<div>\n",
       "<style scoped>\n",
       "    .dataframe tbody tr th:only-of-type {\n",
       "        vertical-align: middle;\n",
       "    }\n",
       "\n",
       "    .dataframe tbody tr th {\n",
       "        vertical-align: top;\n",
       "    }\n",
       "\n",
       "    .dataframe thead th {\n",
       "        text-align: right;\n",
       "    }\n",
       "</style>\n",
       "<table border=\"1\" class=\"dataframe\">\n",
       "  <thead>\n",
       "    <tr style=\"text-align: right;\">\n",
       "      <th></th>\n",
       "      <th>Total Purchase Value</th>\n",
       "    </tr>\n",
       "    <tr>\n",
       "      <th>Age Range</th>\n",
       "      <th></th>\n",
       "    </tr>\n",
       "  </thead>\n",
       "  <tbody>\n",
       "    <tr>\n",
       "      <th>5-10</th>\n",
       "      <td>96.62</td>\n",
       "    </tr>\n",
       "    <tr>\n",
       "      <th>11-15</th>\n",
       "      <td>224.15</td>\n",
       "    </tr>\n",
       "    <tr>\n",
       "      <th>16-20</th>\n",
       "      <td>528.74</td>\n",
       "    </tr>\n",
       "    <tr>\n",
       "      <th>21-25</th>\n",
       "      <td>902.61</td>\n",
       "    </tr>\n",
       "    <tr>\n",
       "      <th>26-30</th>\n",
       "      <td>219.82</td>\n",
       "    </tr>\n",
       "    <tr>\n",
       "      <th>31-35</th>\n",
       "      <td>178.26</td>\n",
       "    </tr>\n",
       "    <tr>\n",
       "      <th>36-40</th>\n",
       "      <td>127.49</td>\n",
       "    </tr>\n",
       "    <tr>\n",
       "      <th>41-45</th>\n",
       "      <td>8.64</td>\n",
       "    </tr>\n",
       "    <tr>\n",
       "      <th>46-50</th>\n",
       "      <td>0.00</td>\n",
       "    </tr>\n",
       "  </tbody>\n",
       "</table>\n",
       "</div>"
      ],
      "text/plain": [
       "           Total Purchase Value\n",
       "Age Range                      \n",
       "5-10                      96.62\n",
       "11-15                    224.15\n",
       "16-20                    528.74\n",
       "21-25                    902.61\n",
       "26-30                    219.82\n",
       "31-35                    178.26\n",
       "36-40                    127.49\n",
       "41-45                      8.64\n",
       "46-50                      0.00"
      ]
     },
     "execution_count": 25,
     "metadata": {},
     "output_type": "execute_result"
    }
   ],
   "source": [
    "age_range_sum = age_range_groupby.sum()\n",
    "age_range_tot_value = age_range_sum['Price'].to_frame()\n",
    "age_range_tot_value = age_range_tot_value.rename(index=str, columns={'Price':'Total Purchase Value'})\n",
    "age_range_tot_value"
   ]
  },
  {
   "cell_type": "code",
   "execution_count": 26,
   "metadata": {},
   "outputs": [
    {
     "data": {
      "text/plain": [
       "Text(0.5,1,'Total Purchase Value by Age Range')"
      ]
     },
     "execution_count": 26,
     "metadata": {},
     "output_type": "execute_result"
    },
    {
     "data": {
      "image/png": "[encoded data removed]",
      "text/plain": [
       "<matplotlib.figure.Figure at 0x11bd640b8>"
      ]
     },
     "metadata": {},
     "output_type": "display_data"
    }
   ],
   "source": [
    "ax7 = plt.subplot()\n",
    "age_range_tot_value.plot(kind='Barh', legend=False, ax=ax7, color='r', edgecolor='k', linewidth=3)\n",
    "ax7.set_xlabel('Total Purchase Value (Dollars)')\n",
    "ax7.set_title('Total Purchase Value by Age Range')"
   ]
  },
  {
   "cell_type": "markdown",
   "metadata": {},
   "source": [
    "# Normalized Total Purchase Value by Age Range:"
   ]
  },
  {
   "cell_type": "code",
   "execution_count": 27,
   "metadata": {},
   "outputs": [
    {
     "name": "stderr",
     "output_type": "stream",
     "text": [
      "/anaconda3/envs/PythonData/lib/python3.6/site-packages/ipykernel_launcher.py:3: RuntimeWarning: invalid value encountered in double_scalars\n",
      "  This is separate from the ipykernel package so we can avoid doing imports until\n"
     ]
    },
    {
     "data": {
      "text/html": [
       "<div>\n",
       "<style scoped>\n",
       "    .dataframe tbody tr th:only-of-type {\n",
       "        vertical-align: middle;\n",
       "    }\n",
       "\n",
       "    .dataframe tbody tr th {\n",
       "        vertical-align: top;\n",
       "    }\n",
       "\n",
       "    .dataframe thead th {\n",
       "        text-align: right;\n",
       "    }\n",
       "</style>\n",
       "<table border=\"1\" class=\"dataframe\">\n",
       "  <thead>\n",
       "    <tr style=\"text-align: right;\">\n",
       "      <th></th>\n",
       "      <th>Normalized Purchase Value</th>\n",
       "    </tr>\n",
       "    <tr>\n",
       "      <th>Age Range</th>\n",
       "      <th></th>\n",
       "    </tr>\n",
       "  </thead>\n",
       "  <tbody>\n",
       "    <tr>\n",
       "      <th>5-10</th>\n",
       "      <td>3.019375</td>\n",
       "    </tr>\n",
       "    <tr>\n",
       "      <th>11-15</th>\n",
       "      <td>2.873718</td>\n",
       "    </tr>\n",
       "    <tr>\n",
       "      <th>16-20</th>\n",
       "      <td>2.873587</td>\n",
       "    </tr>\n",
       "    <tr>\n",
       "      <th>21-25</th>\n",
       "      <td>2.959377</td>\n",
       "    </tr>\n",
       "    <tr>\n",
       "      <th>26-30</th>\n",
       "      <td>2.892368</td>\n",
       "    </tr>\n",
       "    <tr>\n",
       "      <th>31-35</th>\n",
       "      <td>3.073448</td>\n",
       "    </tr>\n",
       "    <tr>\n",
       "      <th>36-40</th>\n",
       "      <td>2.897500</td>\n",
       "    </tr>\n",
       "    <tr>\n",
       "      <th>41-45</th>\n",
       "      <td>2.880000</td>\n",
       "    </tr>\n",
       "    <tr>\n",
       "      <th>46-50</th>\n",
       "      <td>NaN</td>\n",
       "    </tr>\n",
       "  </tbody>\n",
       "</table>\n",
       "</div>"
      ],
      "text/plain": [
       "           Normalized Purchase Value\n",
       "Age Range                           \n",
       "5-10                        3.019375\n",
       "11-15                       2.873718\n",
       "16-20                       2.873587\n",
       "21-25                       2.959377\n",
       "26-30                       2.892368\n",
       "31-35                       3.073448\n",
       "36-40                       2.897500\n",
       "41-45                       2.880000\n",
       "46-50                            NaN"
      ]
     },
     "execution_count": 27,
     "metadata": {},
     "output_type": "execute_result"
    }
   ],
   "source": [
    "age_normalized_tot = age_range_tot_value.assign()\n",
    "for i in range(len(labels)):\n",
    "    age_normalized_tot.iloc[i,0] = age_normalized_tot.iloc[i,0] / age_range_purchase_count.iloc[i,0]\n",
    "age_normalized_tot.rename(index=str, columns={'Total Purchase Value': 'Normalized Purchase Value'}, inplace=True)\n",
    "age_normalized_tot"
   ]
  },
  {
   "cell_type": "code",
   "execution_count": 58,
   "metadata": {},
   "outputs": [
    {
     "data": {
      "text/plain": [
       "Text(0.5,0,'Normalized Purchase Value (Dollars)')"
      ]
     },
     "execution_count": 58,
     "metadata": {},
     "output_type": "execute_result"
    },
    {
     "data": {
      "image/png": "[encoded data removed]",
      "text/plain": [
       "<matplotlib.figure.Figure at 0x11d61d0f0>"
      ]
     },
     "metadata": {},
     "output_type": "display_data"
    }
   ],
   "source": [
    "ax8 = plt.subplot()\n",
    "age_normalized_tot.plot(kind='Barh', legend=False, ax=ax8, color='r', edgecolor='k', linewidth=3)\n",
    "ax8.set_title('Normalized Purchase Value by Age')\n",
    "ax8.set_xlabel(\"Normalized Purchase Value (Dollars)\")"
   ]
  },
  {
   "cell_type": "markdown",
   "metadata": {},
   "source": [
    "# Top 5 Spenders:"
   ]
  },
  {
   "cell_type": "code",
   "execution_count": 59,
   "metadata": {},
   "outputs": [],
   "source": [
    "\n",
    "\n",
    "top_spenders = purchase_data_df.groupby('SN').sum().sort_values('Price', ascending=False)\n",
    "top_spenders = top_spenders.iloc[0:5,2].to_frame().rename(index=str, columns={'Price': 'Total Purchase Value'})"
   ]
  },
  {
   "cell_type": "code",
   "execution_count": 30,
   "metadata": {},
   "outputs": [
    {
     "data": {
      "text/plain": [
       "['Undirrala66', 'Saedue76', 'Mindimnya67', 'Haellysu29', 'Eoda93']"
      ]
     },
     "execution_count": 30,
     "metadata": {},
     "output_type": "execute_result"
    }
   ],
   "source": [
    "top_spenders_index = list(top_spenders.index)\n",
    "top_spenders_index"
   ]
  },
  {
   "cell_type": "code",
   "execution_count": 31,
   "metadata": {},
   "outputs": [],
   "source": [
    "top_purchase_data_df = purchase_data_df.set_index('SN')\n",
    "top_purchase_data_df = top_purchase_data_df.loc[top_spenders_index,:]\n",
    "top_purchase_data_df = top_purchase_data_df.reset_index()\n",
    "top_purchase_groupby = top_purchase_data_df.groupby('SN')"
   ]
  },
  {
   "cell_type": "markdown",
   "metadata": {},
   "source": [
    "## Number of Items Purchased:"
   ]
  },
  {
   "cell_type": "code",
   "execution_count": 32,
   "metadata": {},
   "outputs": [
    {
     "data": {
      "text/html": [
       "<div>\n",
       "<style scoped>\n",
       "    .dataframe tbody tr th:only-of-type {\n",
       "        vertical-align: middle;\n",
       "    }\n",
       "\n",
       "    .dataframe tbody tr th {\n",
       "        vertical-align: top;\n",
       "    }\n",
       "\n",
       "    .dataframe thead th {\n",
       "        text-align: right;\n",
       "    }\n",
       "</style>\n",
       "<table border=\"1\" class=\"dataframe\">\n",
       "  <thead>\n",
       "    <tr style=\"text-align: right;\">\n",
       "      <th></th>\n",
       "      <th>Items Purchased</th>\n",
       "    </tr>\n",
       "    <tr>\n",
       "      <th>SN</th>\n",
       "      <th></th>\n",
       "    </tr>\n",
       "  </thead>\n",
       "  <tbody>\n",
       "    <tr>\n",
       "      <th>Eoda93</th>\n",
       "      <td>3</td>\n",
       "    </tr>\n",
       "    <tr>\n",
       "      <th>Haellysu29</th>\n",
       "      <td>3</td>\n",
       "    </tr>\n",
       "    <tr>\n",
       "      <th>Mindimnya67</th>\n",
       "      <td>4</td>\n",
       "    </tr>\n",
       "    <tr>\n",
       "      <th>Saedue76</th>\n",
       "      <td>4</td>\n",
       "    </tr>\n",
       "    <tr>\n",
       "      <th>Undirrala66</th>\n",
       "      <td>5</td>\n",
       "    </tr>\n",
       "  </tbody>\n",
       "</table>\n",
       "</div>"
      ],
      "text/plain": [
       "             Items Purchased\n",
       "SN                          \n",
       "Eoda93                     3\n",
       "Haellysu29                 3\n",
       "Mindimnya67                4\n",
       "Saedue76                   4\n",
       "Undirrala66                5"
      ]
     },
     "execution_count": 32,
     "metadata": {},
     "output_type": "execute_result"
    }
   ],
   "source": [
    "top_purchase_count =top_purchase_groupby.count()\n",
    "top_purchase_item_count = top_purchase_count['Item ID'].to_frame()\n",
    "top_purchase_item_count.rename(index=str, columns={'Item ID': 'Items Purchased'}, inplace=True)\n",
    "top_purchase_item_count"
   ]
  },
  {
   "cell_type": "markdown",
   "metadata": {},
   "source": [
    "## Average Price of Items Purchased:"
   ]
  },
  {
   "cell_type": "code",
   "execution_count": 33,
   "metadata": {},
   "outputs": [
    {
     "data": {
      "text/html": [
       "<div>\n",
       "<style scoped>\n",
       "    .dataframe tbody tr th:only-of-type {\n",
       "        vertical-align: middle;\n",
       "    }\n",
       "\n",
       "    .dataframe tbody tr th {\n",
       "        vertical-align: top;\n",
       "    }\n",
       "\n",
       "    .dataframe thead th {\n",
       "        text-align: right;\n",
       "    }\n",
       "</style>\n",
       "<table border=\"1\" class=\"dataframe\">\n",
       "  <thead>\n",
       "    <tr style=\"text-align: right;\">\n",
       "      <th></th>\n",
       "      <th>Average Price Purchased</th>\n",
       "    </tr>\n",
       "    <tr>\n",
       "      <th>SN</th>\n",
       "      <th></th>\n",
       "    </tr>\n",
       "  </thead>\n",
       "  <tbody>\n",
       "    <tr>\n",
       "      <th>Eoda93</th>\n",
       "      <td>3.860000</td>\n",
       "    </tr>\n",
       "    <tr>\n",
       "      <th>Haellysu29</th>\n",
       "      <td>4.243333</td>\n",
       "    </tr>\n",
       "    <tr>\n",
       "      <th>Mindimnya67</th>\n",
       "      <td>3.185000</td>\n",
       "    </tr>\n",
       "    <tr>\n",
       "      <th>Saedue76</th>\n",
       "      <td>3.390000</td>\n",
       "    </tr>\n",
       "    <tr>\n",
       "      <th>Undirrala66</th>\n",
       "      <td>3.412000</td>\n",
       "    </tr>\n",
       "  </tbody>\n",
       "</table>\n",
       "</div>"
      ],
      "text/plain": [
       "             Average Price Purchased\n",
       "SN                                  \n",
       "Eoda93                      3.860000\n",
       "Haellysu29                  4.243333\n",
       "Mindimnya67                 3.185000\n",
       "Saedue76                    3.390000\n",
       "Undirrala66                 3.412000"
      ]
     },
     "execution_count": 33,
     "metadata": {},
     "output_type": "execute_result"
    }
   ],
   "source": [
    "top_purchase_avg =top_purchase_groupby.mean()\n",
    "top_purchase_avg_price = top_purchase_avg['Price'].to_frame()\n",
    "top_purchase_avg_price.rename(index=str, columns={'Price': 'Average Price Purchased'}, inplace=True)\n",
    "top_purchase_avg_price"
   ]
  },
  {
   "cell_type": "markdown",
   "metadata": {},
   "source": [
    "## Total Purchase Value of Top Spenders:"
   ]
  },
  {
   "cell_type": "code",
   "execution_count": 34,
   "metadata": {},
   "outputs": [
    {
     "data": {
      "text/html": [
       "<div>\n",
       "<style scoped>\n",
       "    .dataframe tbody tr th:only-of-type {\n",
       "        vertical-align: middle;\n",
       "    }\n",
       "\n",
       "    .dataframe tbody tr th {\n",
       "        vertical-align: top;\n",
       "    }\n",
       "\n",
       "    .dataframe thead th {\n",
       "        text-align: right;\n",
       "    }\n",
       "</style>\n",
       "<table border=\"1\" class=\"dataframe\">\n",
       "  <thead>\n",
       "    <tr style=\"text-align: right;\">\n",
       "      <th></th>\n",
       "      <th>Total Purchased Value</th>\n",
       "    </tr>\n",
       "    <tr>\n",
       "      <th>SN</th>\n",
       "      <th></th>\n",
       "    </tr>\n",
       "  </thead>\n",
       "  <tbody>\n",
       "    <tr>\n",
       "      <th>Eoda93</th>\n",
       "      <td>11.58</td>\n",
       "    </tr>\n",
       "    <tr>\n",
       "      <th>Haellysu29</th>\n",
       "      <td>12.73</td>\n",
       "    </tr>\n",
       "    <tr>\n",
       "      <th>Mindimnya67</th>\n",
       "      <td>12.74</td>\n",
       "    </tr>\n",
       "    <tr>\n",
       "      <th>Saedue76</th>\n",
       "      <td>13.56</td>\n",
       "    </tr>\n",
       "    <tr>\n",
       "      <th>Undirrala66</th>\n",
       "      <td>17.06</td>\n",
       "    </tr>\n",
       "  </tbody>\n",
       "</table>\n",
       "</div>"
      ],
      "text/plain": [
       "             Total Purchased Value\n",
       "SN                                \n",
       "Eoda93                       11.58\n",
       "Haellysu29                   12.73\n",
       "Mindimnya67                  12.74\n",
       "Saedue76                     13.56\n",
       "Undirrala66                  17.06"
      ]
     },
     "execution_count": 34,
     "metadata": {},
     "output_type": "execute_result"
    }
   ],
   "source": [
    "top_purchase_sum =top_purchase_groupby.sum()\n",
    "top_purchase_tot_price = top_purchase_sum['Price'].to_frame()\n",
    "top_purchase_tot_price.rename(index=str, columns={'Price': 'Total Purchased Value'}, inplace=True)\n",
    "top_purchase_tot_price"
   ]
  },
  {
   "cell_type": "code",
   "execution_count": 35,
   "metadata": {},
   "outputs": [],
   "source": [
    "top_spenders_df = top_purchase_tot_price.reset_index().merge(top_purchase_avg_price.reset_index()).merge(top_purchase_item_count.reset_index())"
   ]
  },
  {
   "cell_type": "markdown",
   "metadata": {},
   "source": [
    "## Summary Table:"
   ]
  },
  {
   "cell_type": "code",
   "execution_count": 36,
   "metadata": {},
   "outputs": [
    {
     "data": {
      "text/html": [
       "<div>\n",
       "<style scoped>\n",
       "    .dataframe tbody tr th:only-of-type {\n",
       "        vertical-align: middle;\n",
       "    }\n",
       "\n",
       "    .dataframe tbody tr th {\n",
       "        vertical-align: top;\n",
       "    }\n",
       "\n",
       "    .dataframe thead th {\n",
       "        text-align: right;\n",
       "    }\n",
       "</style>\n",
       "<table border=\"1\" class=\"dataframe\">\n",
       "  <thead>\n",
       "    <tr style=\"text-align: right;\">\n",
       "      <th></th>\n",
       "      <th>SN</th>\n",
       "      <th>Total Purchased Value</th>\n",
       "      <th>Average Price Purchased</th>\n",
       "      <th>Items Purchased</th>\n",
       "    </tr>\n",
       "  </thead>\n",
       "  <tbody>\n",
       "    <tr>\n",
       "      <th>4</th>\n",
       "      <td>Undirrala66</td>\n",
       "      <td>17.06</td>\n",
       "      <td>3.412000</td>\n",
       "      <td>5</td>\n",
       "    </tr>\n",
       "    <tr>\n",
       "      <th>3</th>\n",
       "      <td>Saedue76</td>\n",
       "      <td>13.56</td>\n",
       "      <td>3.390000</td>\n",
       "      <td>4</td>\n",
       "    </tr>\n",
       "    <tr>\n",
       "      <th>2</th>\n",
       "      <td>Mindimnya67</td>\n",
       "      <td>12.74</td>\n",
       "      <td>3.185000</td>\n",
       "      <td>4</td>\n",
       "    </tr>\n",
       "    <tr>\n",
       "      <th>1</th>\n",
       "      <td>Haellysu29</td>\n",
       "      <td>12.73</td>\n",
       "      <td>4.243333</td>\n",
       "      <td>3</td>\n",
       "    </tr>\n",
       "    <tr>\n",
       "      <th>0</th>\n",
       "      <td>Eoda93</td>\n",
       "      <td>11.58</td>\n",
       "      <td>3.860000</td>\n",
       "      <td>3</td>\n",
       "    </tr>\n",
       "  </tbody>\n",
       "</table>\n",
       "</div>"
      ],
      "text/plain": [
       "            SN  Total Purchased Value  Average Price Purchased  \\\n",
       "4  Undirrala66                  17.06                 3.412000   \n",
       "3     Saedue76                  13.56                 3.390000   \n",
       "2  Mindimnya67                  12.74                 3.185000   \n",
       "1   Haellysu29                  12.73                 4.243333   \n",
       "0       Eoda93                  11.58                 3.860000   \n",
       "\n",
       "   Items Purchased  \n",
       "4                5  \n",
       "3                4  \n",
       "2                4  \n",
       "1                3  \n",
       "0                3  "
      ]
     },
     "execution_count": 36,
     "metadata": {},
     "output_type": "execute_result"
    }
   ],
   "source": [
    "top_spenders_df = top_spenders_df.sort_values('Total Purchased Value', ascending=False)\n",
    "top_spenders_df"
   ]
  },
  {
   "cell_type": "code",
   "execution_count": 37,
   "metadata": {},
   "outputs": [],
   "source": [
    "plt_top_spenders = top_spenders_df.set_index('SN')"
   ]
  },
  {
   "cell_type": "markdown",
   "metadata": {},
   "source": [
    "## Value Plots:"
   ]
  },
  {
   "cell_type": "code",
   "execution_count": 38,
   "metadata": {},
   "outputs": [
    {
     "data": {
      "text/plain": [
       "Text(0,0.5,'Screen Name')"
      ]
     },
     "execution_count": 38,
     "metadata": {},
     "output_type": "execute_result"
    },
    {
     "data": {
      "image/png": "[encoded data removed]",
      "text/plain": [
       "<matplotlib.figure.Figure at 0x11bff7a90>"
      ]
     },
     "metadata": {},
     "output_type": "display_data"
    }
   ],
   "source": [
    "ax9 = plt.subplot()\n",
    "plt_top_spenders['Items Purchased'].plot(kind='barh', ax=ax9, color='r', edgecolor='k', linewidth=3)\n",
    "ax9.set_title('Number of Items Purchased by the 5 Top Spenders')\n",
    "ax9.set_xlabel('Item Count')\n",
    "ax9.set_ylabel('Screen Name')"
   ]
  },
  {
   "cell_type": "code",
   "execution_count": 39,
   "metadata": {},
   "outputs": [
    {
     "data": {
      "text/plain": [
       "Text(0,0.5,'Screan Name')"
      ]
     },
     "execution_count": 39,
     "metadata": {},
     "output_type": "execute_result"
    },
    {
     "data": {
      "image/png": "[encoded data removed]",
      "text/plain": [
       "<matplotlib.figure.Figure at 0x11c0273c8>"
      ]
     },
     "metadata": {},
     "output_type": "display_data"
    }
   ],
   "source": [
    "ax10 = plt.subplot()\n",
    "plt_top_spenders['Average Price Purchased'].plot(kind='barh', ax=ax10, color='r', edgecolor='k', linewidth=3)\n",
    "ax10.set_title('Average Price of Purchased Items for Top 5 Spenders')\n",
    "ax10.set_xlabel('Average Price of Items (Dollars)')\n",
    "ax10.set_ylabel('Screan Name')"
   ]
  },
  {
   "cell_type": "code",
   "execution_count": 40,
   "metadata": {},
   "outputs": [
    {
     "data": {
      "text/plain": [
       "Text(0,0.5,'Screan Name')"
      ]
     },
     "execution_count": 40,
     "metadata": {},
     "output_type": "execute_result"
    },
    {
     "data": {
      "image/png": "[encoded data removed]",
      "text/plain": [
       "<matplotlib.figure.Figure at 0x11c0e2748>"
      ]
     },
     "metadata": {},
     "output_type": "display_data"
    }
   ],
   "source": [
    "ax11 = plt.subplot()\n",
    "plt_top_spenders['Total Purchased Value'].plot(kind='barh', ax=ax11, color='r', edgecolor='k', linewidth=3)\n",
    "ax11.set_title('Total Purchased Value of Items for Top 5 Spenders')\n",
    "ax11.set_xlabel('Total Purchased Value (Dollars)')\n",
    "ax11.set_ylabel('Screan Name')"
   ]
  },
  {
   "cell_type": "markdown",
   "metadata": {},
   "source": [
    "# Most Popular Items:\n",
    "\n",
    "1. ID and Name of top 5 Items\n",
    "2. Item Price\n",
    "3. number of Items sold\n",
    "4. Total Purchased Value"
   ]
  },
  {
   "cell_type": "code",
   "execution_count": 41,
   "metadata": {},
   "outputs": [],
   "source": [
    "pop_products = purchase_data_df['Item ID'].value_counts()\n",
    "pop_products = pop_products.iloc[0:5].to_frame()\n",
    "pop_products_index = pop_products.index"
   ]
  },
  {
   "cell_type": "code",
   "execution_count": 42,
   "metadata": {},
   "outputs": [],
   "source": [
    "purchase_data_ID = purchase_data_df.set_index('Item ID')\n",
    "top_pop = purchase_data_ID.loc[pop_products_index,:]\n",
    "top_name = top_pop['Item Name'].unique()\n",
    "top_price = top_pop['Price'].unique()\n",
    "top_products = pd.DataFrame({'Item ID': pop_products_index, 'Item Name': top_name, 'Price': top_price})\n",
    "pop_products = pop_products.reset_index().rename(index=str, columns={'index': 'Item ID', 'Item ID': 'Item Count'})\n",
    "top_products = top_products.merge(pop_products)"
   ]
  },
  {
   "cell_type": "markdown",
   "metadata": {},
   "source": [
    "## Summary Chart:"
   ]
  },
  {
   "cell_type": "code",
   "execution_count": 43,
   "metadata": {},
   "outputs": [
    {
     "data": {
      "text/html": [
       "<div>\n",
       "<style scoped>\n",
       "    .dataframe tbody tr th:only-of-type {\n",
       "        vertical-align: middle;\n",
       "    }\n",
       "\n",
       "    .dataframe tbody tr th {\n",
       "        vertical-align: top;\n",
       "    }\n",
       "\n",
       "    .dataframe thead th {\n",
       "        text-align: right;\n",
       "    }\n",
       "</style>\n",
       "<table border=\"1\" class=\"dataframe\">\n",
       "  <thead>\n",
       "    <tr style=\"text-align: right;\">\n",
       "      <th></th>\n",
       "      <th>Item ID</th>\n",
       "      <th>Item Name</th>\n",
       "      <th>Price</th>\n",
       "      <th>Item Count</th>\n",
       "      <th>Total Purchase Value</th>\n",
       "    </tr>\n",
       "  </thead>\n",
       "  <tbody>\n",
       "    <tr>\n",
       "      <th>0</th>\n",
       "      <td>84</td>\n",
       "      <td>Arcane Gem</td>\n",
       "      <td>2.23</td>\n",
       "      <td>11</td>\n",
       "      <td>24.53</td>\n",
       "    </tr>\n",
       "    <tr>\n",
       "      <th>1</th>\n",
       "      <td>39</td>\n",
       "      <td>Betrayal, Whisper of Grieving Widows</td>\n",
       "      <td>2.35</td>\n",
       "      <td>11</td>\n",
       "      <td>25.85</td>\n",
       "    </tr>\n",
       "    <tr>\n",
       "      <th>2</th>\n",
       "      <td>31</td>\n",
       "      <td>Trickster</td>\n",
       "      <td>2.07</td>\n",
       "      <td>9</td>\n",
       "      <td>18.63</td>\n",
       "    </tr>\n",
       "    <tr>\n",
       "      <th>3</th>\n",
       "      <td>34</td>\n",
       "      <td>Retribution Axe</td>\n",
       "      <td>4.14</td>\n",
       "      <td>9</td>\n",
       "      <td>37.26</td>\n",
       "    </tr>\n",
       "    <tr>\n",
       "      <th>4</th>\n",
       "      <td>175</td>\n",
       "      <td>Woeful Adamantite Claymore</td>\n",
       "      <td>1.24</td>\n",
       "      <td>9</td>\n",
       "      <td>11.16</td>\n",
       "    </tr>\n",
       "  </tbody>\n",
       "</table>\n",
       "</div>"
      ],
      "text/plain": [
       "   Item ID                             Item Name  Price  Item Count  \\\n",
       "0       84                            Arcane Gem   2.23          11   \n",
       "1       39  Betrayal, Whisper of Grieving Widows   2.35          11   \n",
       "2       31                             Trickster   2.07           9   \n",
       "3       34                       Retribution Axe   4.14           9   \n",
       "4      175            Woeful Adamantite Claymore   1.24           9   \n",
       "\n",
       "   Total Purchase Value  \n",
       "0                 24.53  \n",
       "1                 25.85  \n",
       "2                 18.63  \n",
       "3                 37.26  \n",
       "4                 11.16  "
      ]
     },
     "execution_count": 43,
     "metadata": {},
     "output_type": "execute_result"
    }
   ],
   "source": [
    "top_pop_group_sum = top_pop.groupby('Item Name').sum()\n",
    "top_pop_tot_price = top_pop_group_sum['Price'].reset_index().rename(index=str, columns={'Price': 'Total Purchase Value'})\n",
    "top_products = top_products.merge(top_pop_tot_price)\n",
    "top_products"
   ]
  },
  {
   "cell_type": "markdown",
   "metadata": {},
   "source": [
    "## Plots of Values:"
   ]
  },
  {
   "cell_type": "code",
   "execution_count": 48,
   "metadata": {},
   "outputs": [
    {
     "data": {
      "text/plain": [
       "Text(0.5,1,'Items Sold for 5 Most Popular Items')"
      ]
     },
     "execution_count": 48,
     "metadata": {},
     "output_type": "execute_result"
    },
    {
     "data": {
      "image/png": "[encoded data removed]",
      "text/plain": [
       "<matplotlib.figure.Figure at 0x11c65f898>"
      ]
     },
     "metadata": {},
     "output_type": "display_data"
    }
   ],
   "source": [
    "ax12 = plt.subplot()\n",
    "top_products.plot(x='Item Name', y='Item Count', kind='barh', ax=ax12, legend=False, color='r', edgecolor='k', linewidth=3)\n",
    "ax12.set_xlabel('Item Count')\n",
    "ax12.set_title('Items Sold for 5 Most Popular Items')"
   ]
  },
  {
   "cell_type": "code",
   "execution_count": 50,
   "metadata": {},
   "outputs": [
    {
     "data": {
      "text/plain": [
       "Text(0.5,1,'Price of 5 Most Popular Items')"
      ]
     },
     "execution_count": 50,
     "metadata": {},
     "output_type": "execute_result"
    },
    {
     "data": {
      "image/png": "[encoded data removed]",
      "text/plain": [
       "<matplotlib.figure.Figure at 0x11c7477f0>"
      ]
     },
     "metadata": {},
     "output_type": "display_data"
    }
   ],
   "source": [
    "ax13 = plt.subplot()\n",
    "top_products.plot(x='Item Name', y='Price', kind='barh', ax=ax13, legend=False, color='r', edgecolor='k', linewidth=3)\n",
    "ax13.set_xlabel('Price (Dollars)')\n",
    "ax13.set_title('Price of 5 Most Popular Items')"
   ]
  },
  {
   "cell_type": "code",
   "execution_count": 51,
   "metadata": {},
   "outputs": [
    {
     "data": {
      "text/plain": [
       "Text(0.5,1,'Total Purchase Value of 5 most Popular Items')"
      ]
     },
     "execution_count": 51,
     "metadata": {},
     "output_type": "execute_result"
    },
    {
     "data": {
      "image/png": "[encoded data removed]",
      "text/plain": [
       "<matplotlib.figure.Figure at 0x11c859e80>"
      ]
     },
     "metadata": {},
     "output_type": "display_data"
    }
   ],
   "source": [
    "ax14 = plt.subplot()\n",
    "top_products.plot(x='Item Name', y='Total Purchase Value', kind='barh', ax=ax14, legend=False, color='r', edgecolor='k', linewidth=3)\n",
    "ax14.set_xlabel('Total Purchase Value (Dollars)')\n",
    "ax14.set_title('Total Purchase Value of 5 most Popular Items')"
   ]
  },
  {
   "cell_type": "markdown",
   "metadata": {},
   "source": [
    "# Most Profitable Items:"
   ]
  },
  {
   "cell_type": "code",
   "execution_count": 72,
   "metadata": {},
   "outputs": [],
   "source": [
    "items_df = purchase_data_df.set_index('Item ID')\n",
    "items_df_tot_value = items_df.groupby('Item Name').sum()\n",
    "top_items = items_df_tot_value.sort_values('Price',ascending=False).iloc[0:5,1].to_frame()\n",
    "top_index =top_items.index"
   ]
  },
  {
   "cell_type": "code",
   "execution_count": 75,
   "metadata": {},
   "outputs": [
    {
     "data": {
      "text/html": [
       "<div>\n",
       "<style scoped>\n",
       "    .dataframe tbody tr th:only-of-type {\n",
       "        vertical-align: middle;\n",
       "    }\n",
       "\n",
       "    .dataframe tbody tr th {\n",
       "        vertical-align: top;\n",
       "    }\n",
       "\n",
       "    .dataframe thead th {\n",
       "        text-align: right;\n",
       "    }\n",
       "</style>\n",
       "<table border=\"1\" class=\"dataframe\">\n",
       "  <thead>\n",
       "    <tr style=\"text-align: right;\">\n",
       "      <th></th>\n",
       "      <th>Age</th>\n",
       "      <th>Gender</th>\n",
       "      <th>Item ID</th>\n",
       "      <th>Price</th>\n",
       "      <th>SN</th>\n",
       "      <th>Age Range</th>\n",
       "    </tr>\n",
       "    <tr>\n",
       "      <th>Item Name</th>\n",
       "      <th></th>\n",
       "      <th></th>\n",
       "      <th></th>\n",
       "      <th></th>\n",
       "      <th></th>\n",
       "      <th></th>\n",
       "    </tr>\n",
       "  </thead>\n",
       "  <tbody>\n",
       "    <tr>\n",
       "      <th>Final Critic</th>\n",
       "      <td>21</td>\n",
       "      <td>Male</td>\n",
       "      <td>92</td>\n",
       "      <td>1.36</td>\n",
       "      <td>Pheusrical25</td>\n",
       "      <td>21-25</td>\n",
       "    </tr>\n",
       "    <tr>\n",
       "      <th>Final Critic</th>\n",
       "      <td>25</td>\n",
       "      <td>Female</td>\n",
       "      <td>101</td>\n",
       "      <td>4.62</td>\n",
       "      <td>Minduli80</td>\n",
       "      <td>21-25</td>\n",
       "    </tr>\n",
       "    <tr>\n",
       "      <th>Final Critic</th>\n",
       "      <td>19</td>\n",
       "      <td>Male</td>\n",
       "      <td>101</td>\n",
       "      <td>4.62</td>\n",
       "      <td>Farusrian86</td>\n",
       "      <td>16-20</td>\n",
       "    </tr>\n",
       "    <tr>\n",
       "      <th>Final Critic</th>\n",
       "      <td>25</td>\n",
       "      <td>Female</td>\n",
       "      <td>92</td>\n",
       "      <td>1.36</td>\n",
       "      <td>Chamistast30</td>\n",
       "      <td>21-25</td>\n",
       "    </tr>\n",
       "    <tr>\n",
       "      <th>Final Critic</th>\n",
       "      <td>25</td>\n",
       "      <td>Female</td>\n",
       "      <td>92</td>\n",
       "      <td>1.36</td>\n",
       "      <td>Chamistast30</td>\n",
       "      <td>21-25</td>\n",
       "    </tr>\n",
       "    <tr>\n",
       "      <th>Final Critic</th>\n",
       "      <td>37</td>\n",
       "      <td>Male</td>\n",
       "      <td>92</td>\n",
       "      <td>1.36</td>\n",
       "      <td>Aduephos78</td>\n",
       "      <td>36-40</td>\n",
       "    </tr>\n",
       "    <tr>\n",
       "      <th>Final Critic</th>\n",
       "      <td>25</td>\n",
       "      <td>Male</td>\n",
       "      <td>92</td>\n",
       "      <td>1.36</td>\n",
       "      <td>Jiskassa76</td>\n",
       "      <td>21-25</td>\n",
       "    </tr>\n",
       "    <tr>\n",
       "      <th>Final Critic</th>\n",
       "      <td>28</td>\n",
       "      <td>Male</td>\n",
       "      <td>92</td>\n",
       "      <td>1.36</td>\n",
       "      <td>Iskista88</td>\n",
       "      <td>26-30</td>\n",
       "    </tr>\n",
       "    <tr>\n",
       "      <th>Final Critic</th>\n",
       "      <td>24</td>\n",
       "      <td>Male</td>\n",
       "      <td>92</td>\n",
       "      <td>1.36</td>\n",
       "      <td>Lisossa63</td>\n",
       "      <td>21-25</td>\n",
       "    </tr>\n",
       "    <tr>\n",
       "      <th>Final Critic</th>\n",
       "      <td>20</td>\n",
       "      <td>Male</td>\n",
       "      <td>101</td>\n",
       "      <td>4.62</td>\n",
       "      <td>Lirtossa84</td>\n",
       "      <td>16-20</td>\n",
       "    </tr>\n",
       "    <tr>\n",
       "      <th>Final Critic</th>\n",
       "      <td>18</td>\n",
       "      <td>Female</td>\n",
       "      <td>101</td>\n",
       "      <td>4.62</td>\n",
       "      <td>Isurria36</td>\n",
       "      <td>16-20</td>\n",
       "    </tr>\n",
       "    <tr>\n",
       "      <th>Final Critic</th>\n",
       "      <td>23</td>\n",
       "      <td>Male</td>\n",
       "      <td>92</td>\n",
       "      <td>1.36</td>\n",
       "      <td>Rithe53</td>\n",
       "      <td>21-25</td>\n",
       "    </tr>\n",
       "    <tr>\n",
       "      <th>Final Critic</th>\n",
       "      <td>38</td>\n",
       "      <td>Male</td>\n",
       "      <td>101</td>\n",
       "      <td>4.62</td>\n",
       "      <td>Tyisriphos58</td>\n",
       "      <td>36-40</td>\n",
       "    </tr>\n",
       "    <tr>\n",
       "      <th>Final Critic</th>\n",
       "      <td>22</td>\n",
       "      <td>Male</td>\n",
       "      <td>101</td>\n",
       "      <td>4.62</td>\n",
       "      <td>Sondim68</td>\n",
       "      <td>21-25</td>\n",
       "    </tr>\n",
       "    <tr>\n",
       "      <th>Retribution Axe</th>\n",
       "      <td>24</td>\n",
       "      <td>Male</td>\n",
       "      <td>34</td>\n",
       "      <td>4.14</td>\n",
       "      <td>Alallo58</td>\n",
       "      <td>21-25</td>\n",
       "    </tr>\n",
       "    <tr>\n",
       "      <th>Retribution Axe</th>\n",
       "      <td>25</td>\n",
       "      <td>Male</td>\n",
       "      <td>34</td>\n",
       "      <td>4.14</td>\n",
       "      <td>Raesty92</td>\n",
       "      <td>21-25</td>\n",
       "    </tr>\n",
       "    <tr>\n",
       "      <th>Retribution Axe</th>\n",
       "      <td>35</td>\n",
       "      <td>Male</td>\n",
       "      <td>34</td>\n",
       "      <td>4.14</td>\n",
       "      <td>Raillydeu47</td>\n",
       "      <td>31-35</td>\n",
       "    </tr>\n",
       "    <tr>\n",
       "      <th>Retribution Axe</th>\n",
       "      <td>22</td>\n",
       "      <td>Male</td>\n",
       "      <td>34</td>\n",
       "      <td>4.14</td>\n",
       "      <td>Alaephos75</td>\n",
       "      <td>21-25</td>\n",
       "    </tr>\n",
       "    <tr>\n",
       "      <th>Retribution Axe</th>\n",
       "      <td>37</td>\n",
       "      <td>Male</td>\n",
       "      <td>34</td>\n",
       "      <td>4.14</td>\n",
       "      <td>Iskistasda86</td>\n",
       "      <td>36-40</td>\n",
       "    </tr>\n",
       "    <tr>\n",
       "      <th>Retribution Axe</th>\n",
       "      <td>24</td>\n",
       "      <td>Male</td>\n",
       "      <td>34</td>\n",
       "      <td>4.14</td>\n",
       "      <td>Sondadar26</td>\n",
       "      <td>21-25</td>\n",
       "    </tr>\n",
       "    <tr>\n",
       "      <th>Retribution Axe</th>\n",
       "      <td>7</td>\n",
       "      <td>Male</td>\n",
       "      <td>34</td>\n",
       "      <td>4.14</td>\n",
       "      <td>Liri91</td>\n",
       "      <td>5-10</td>\n",
       "    </tr>\n",
       "    <tr>\n",
       "      <th>Retribution Axe</th>\n",
       "      <td>25</td>\n",
       "      <td>Male</td>\n",
       "      <td>34</td>\n",
       "      <td>4.14</td>\n",
       "      <td>Sausosia74</td>\n",
       "      <td>21-25</td>\n",
       "    </tr>\n",
       "    <tr>\n",
       "      <th>Retribution Axe</th>\n",
       "      <td>35</td>\n",
       "      <td>Male</td>\n",
       "      <td>34</td>\n",
       "      <td>4.14</td>\n",
       "      <td>Ralasti48</td>\n",
       "      <td>31-35</td>\n",
       "    </tr>\n",
       "    <tr>\n",
       "      <th>Stormcaller</th>\n",
       "      <td>25</td>\n",
       "      <td>Male</td>\n",
       "      <td>30</td>\n",
       "      <td>4.15</td>\n",
       "      <td>Assistasda90</td>\n",
       "      <td>21-25</td>\n",
       "    </tr>\n",
       "    <tr>\n",
       "      <th>Stormcaller</th>\n",
       "      <td>19</td>\n",
       "      <td>Male</td>\n",
       "      <td>180</td>\n",
       "      <td>2.78</td>\n",
       "      <td>Yasur35</td>\n",
       "      <td>16-20</td>\n",
       "    </tr>\n",
       "    <tr>\n",
       "      <th>Stormcaller</th>\n",
       "      <td>30</td>\n",
       "      <td>Female</td>\n",
       "      <td>180</td>\n",
       "      <td>2.78</td>\n",
       "      <td>Phadai31</td>\n",
       "      <td>26-30</td>\n",
       "    </tr>\n",
       "    <tr>\n",
       "      <th>Stormcaller</th>\n",
       "      <td>26</td>\n",
       "      <td>Male</td>\n",
       "      <td>180</td>\n",
       "      <td>2.78</td>\n",
       "      <td>Aidain51</td>\n",
       "      <td>26-30</td>\n",
       "    </tr>\n",
       "    <tr>\n",
       "      <th>Stormcaller</th>\n",
       "      <td>22</td>\n",
       "      <td>Male</td>\n",
       "      <td>30</td>\n",
       "      <td>4.15</td>\n",
       "      <td>Aeliru63</td>\n",
       "      <td>21-25</td>\n",
       "    </tr>\n",
       "    <tr>\n",
       "      <th>Stormcaller</th>\n",
       "      <td>23</td>\n",
       "      <td>Male</td>\n",
       "      <td>180</td>\n",
       "      <td>2.78</td>\n",
       "      <td>Ithesuphos68</td>\n",
       "      <td>21-25</td>\n",
       "    </tr>\n",
       "    <tr>\n",
       "      <th>Stormcaller</th>\n",
       "      <td>29</td>\n",
       "      <td>Male</td>\n",
       "      <td>180</td>\n",
       "      <td>2.78</td>\n",
       "      <td>Tyalaesu89</td>\n",
       "      <td>26-30</td>\n",
       "    </tr>\n",
       "    <tr>\n",
       "      <th>Stormcaller</th>\n",
       "      <td>23</td>\n",
       "      <td>Female</td>\n",
       "      <td>30</td>\n",
       "      <td>4.15</td>\n",
       "      <td>Undirra73</td>\n",
       "      <td>21-25</td>\n",
       "    </tr>\n",
       "    <tr>\n",
       "      <th>Stormcaller</th>\n",
       "      <td>24</td>\n",
       "      <td>Male</td>\n",
       "      <td>30</td>\n",
       "      <td>4.15</td>\n",
       "      <td>Iskimnya76</td>\n",
       "      <td>21-25</td>\n",
       "    </tr>\n",
       "    <tr>\n",
       "      <th>Stormcaller</th>\n",
       "      <td>20</td>\n",
       "      <td>Male</td>\n",
       "      <td>30</td>\n",
       "      <td>4.15</td>\n",
       "      <td>Eusur90</td>\n",
       "      <td>16-20</td>\n",
       "    </tr>\n",
       "    <tr>\n",
       "      <th>Spectral Diamond Doomblade</th>\n",
       "      <td>29</td>\n",
       "      <td>Male</td>\n",
       "      <td>115</td>\n",
       "      <td>4.25</td>\n",
       "      <td>Undirrala66</td>\n",
       "      <td>26-30</td>\n",
       "    </tr>\n",
       "    <tr>\n",
       "      <th>Spectral Diamond Doomblade</th>\n",
       "      <td>25</td>\n",
       "      <td>Male</td>\n",
       "      <td>115</td>\n",
       "      <td>4.25</td>\n",
       "      <td>Ilogha82</td>\n",
       "      <td>21-25</td>\n",
       "    </tr>\n",
       "    <tr>\n",
       "      <th>Spectral Diamond Doomblade</th>\n",
       "      <td>19</td>\n",
       "      <td>Female</td>\n",
       "      <td>115</td>\n",
       "      <td>4.25</td>\n",
       "      <td>Aeri84</td>\n",
       "      <td>16-20</td>\n",
       "    </tr>\n",
       "    <tr>\n",
       "      <th>Spectral Diamond Doomblade</th>\n",
       "      <td>18</td>\n",
       "      <td>Male</td>\n",
       "      <td>115</td>\n",
       "      <td>4.25</td>\n",
       "      <td>Raerithsti62</td>\n",
       "      <td>16-20</td>\n",
       "    </tr>\n",
       "    <tr>\n",
       "      <th>Spectral Diamond Doomblade</th>\n",
       "      <td>22</td>\n",
       "      <td>Other / Non-Disclosed</td>\n",
       "      <td>115</td>\n",
       "      <td>4.25</td>\n",
       "      <td>Euna48</td>\n",
       "      <td>21-25</td>\n",
       "    </tr>\n",
       "    <tr>\n",
       "      <th>Spectral Diamond Doomblade</th>\n",
       "      <td>16</td>\n",
       "      <td>Male</td>\n",
       "      <td>115</td>\n",
       "      <td>4.25</td>\n",
       "      <td>Reula64</td>\n",
       "      <td>16-20</td>\n",
       "    </tr>\n",
       "    <tr>\n",
       "      <th>Spectral Diamond Doomblade</th>\n",
       "      <td>25</td>\n",
       "      <td>Male</td>\n",
       "      <td>115</td>\n",
       "      <td>4.25</td>\n",
       "      <td>Aeral85</td>\n",
       "      <td>21-25</td>\n",
       "    </tr>\n",
       "    <tr>\n",
       "      <th>Orenmir</th>\n",
       "      <td>32</td>\n",
       "      <td>Female</td>\n",
       "      <td>32</td>\n",
       "      <td>4.95</td>\n",
       "      <td>Saistyphos30</td>\n",
       "      <td>31-35</td>\n",
       "    </tr>\n",
       "    <tr>\n",
       "      <th>Orenmir</th>\n",
       "      <td>25</td>\n",
       "      <td>Female</td>\n",
       "      <td>32</td>\n",
       "      <td>4.95</td>\n",
       "      <td>Frichaststa61</td>\n",
       "      <td>21-25</td>\n",
       "    </tr>\n",
       "    <tr>\n",
       "      <th>Orenmir</th>\n",
       "      <td>20</td>\n",
       "      <td>Male</td>\n",
       "      <td>32</td>\n",
       "      <td>4.95</td>\n",
       "      <td>Qiluard68</td>\n",
       "      <td>16-20</td>\n",
       "    </tr>\n",
       "    <tr>\n",
       "      <th>Orenmir</th>\n",
       "      <td>20</td>\n",
       "      <td>Male</td>\n",
       "      <td>32</td>\n",
       "      <td>4.95</td>\n",
       "      <td>Aeliriam77</td>\n",
       "      <td>16-20</td>\n",
       "    </tr>\n",
       "    <tr>\n",
       "      <th>Orenmir</th>\n",
       "      <td>15</td>\n",
       "      <td>Male</td>\n",
       "      <td>32</td>\n",
       "      <td>4.95</td>\n",
       "      <td>Palurrian69</td>\n",
       "      <td>11-15</td>\n",
       "    </tr>\n",
       "    <tr>\n",
       "      <th>Orenmir</th>\n",
       "      <td>28</td>\n",
       "      <td>Male</td>\n",
       "      <td>32</td>\n",
       "      <td>4.95</td>\n",
       "      <td>Tyarithn67</td>\n",
       "      <td>26-30</td>\n",
       "    </tr>\n",
       "  </tbody>\n",
       "</table>\n",
       "</div>"
      ],
      "text/plain": [
       "                            Age                 Gender  Item ID  Price  \\\n",
       "Item Name                                                                \n",
       "Final Critic                 21                   Male       92   1.36   \n",
       "Final Critic                 25                 Female      101   4.62   \n",
       "Final Critic                 19                   Male      101   4.62   \n",
       "Final Critic                 25                 Female       92   1.36   \n",
       "Final Critic                 25                 Female       92   1.36   \n",
       "Final Critic                 37                   Male       92   1.36   \n",
       "Final Critic                 25                   Male       92   1.36   \n",
       "Final Critic                 28                   Male       92   1.36   \n",
       "Final Critic                 24                   Male       92   1.36   \n",
       "Final Critic                 20                   Male      101   4.62   \n",
       "Final Critic                 18                 Female      101   4.62   \n",
       "Final Critic                 23                   Male       92   1.36   \n",
       "Final Critic                 38                   Male      101   4.62   \n",
       "Final Critic                 22                   Male      101   4.62   \n",
       "Retribution Axe              24                   Male       34   4.14   \n",
       "Retribution Axe              25                   Male       34   4.14   \n",
       "Retribution Axe              35                   Male       34   4.14   \n",
       "Retribution Axe              22                   Male       34   4.14   \n",
       "Retribution Axe              37                   Male       34   4.14   \n",
       "Retribution Axe              24                   Male       34   4.14   \n",
       "Retribution Axe               7                   Male       34   4.14   \n",
       "Retribution Axe              25                   Male       34   4.14   \n",
       "Retribution Axe              35                   Male       34   4.14   \n",
       "Stormcaller                  25                   Male       30   4.15   \n",
       "Stormcaller                  19                   Male      180   2.78   \n",
       "Stormcaller                  30                 Female      180   2.78   \n",
       "Stormcaller                  26                   Male      180   2.78   \n",
       "Stormcaller                  22                   Male       30   4.15   \n",
       "Stormcaller                  23                   Male      180   2.78   \n",
       "Stormcaller                  29                   Male      180   2.78   \n",
       "Stormcaller                  23                 Female       30   4.15   \n",
       "Stormcaller                  24                   Male       30   4.15   \n",
       "Stormcaller                  20                   Male       30   4.15   \n",
       "Spectral Diamond Doomblade   29                   Male      115   4.25   \n",
       "Spectral Diamond Doomblade   25                   Male      115   4.25   \n",
       "Spectral Diamond Doomblade   19                 Female      115   4.25   \n",
       "Spectral Diamond Doomblade   18                   Male      115   4.25   \n",
       "Spectral Diamond Doomblade   22  Other / Non-Disclosed      115   4.25   \n",
       "Spectral Diamond Doomblade   16                   Male      115   4.25   \n",
       "Spectral Diamond Doomblade   25                   Male      115   4.25   \n",
       "Orenmir                      32                 Female       32   4.95   \n",
       "Orenmir                      25                 Female       32   4.95   \n",
       "Orenmir                      20                   Male       32   4.95   \n",
       "Orenmir                      20                   Male       32   4.95   \n",
       "Orenmir                      15                   Male       32   4.95   \n",
       "Orenmir                      28                   Male       32   4.95   \n",
       "\n",
       "                                       SN Age Range  \n",
       "Item Name                                            \n",
       "Final Critic                 Pheusrical25     21-25  \n",
       "Final Critic                    Minduli80     21-25  \n",
       "Final Critic                  Farusrian86     16-20  \n",
       "Final Critic                 Chamistast30     21-25  \n",
       "Final Critic                 Chamistast30     21-25  \n",
       "Final Critic                   Aduephos78     36-40  \n",
       "Final Critic                   Jiskassa76     21-25  \n",
       "Final Critic                    Iskista88     26-30  \n",
       "Final Critic                    Lisossa63     21-25  \n",
       "Final Critic                   Lirtossa84     16-20  \n",
       "Final Critic                    Isurria36     16-20  \n",
       "Final Critic                      Rithe53     21-25  \n",
       "Final Critic                 Tyisriphos58     36-40  \n",
       "Final Critic                     Sondim68     21-25  \n",
       "Retribution Axe                  Alallo58     21-25  \n",
       "Retribution Axe                  Raesty92     21-25  \n",
       "Retribution Axe               Raillydeu47     31-35  \n",
       "Retribution Axe                Alaephos75     21-25  \n",
       "Retribution Axe              Iskistasda86     36-40  \n",
       "Retribution Axe                Sondadar26     21-25  \n",
       "Retribution Axe                    Liri91      5-10  \n",
       "Retribution Axe                Sausosia74     21-25  \n",
       "Retribution Axe                 Ralasti48     31-35  \n",
       "Stormcaller                  Assistasda90     21-25  \n",
       "Stormcaller                       Yasur35     16-20  \n",
       "Stormcaller                      Phadai31     26-30  \n",
       "Stormcaller                      Aidain51     26-30  \n",
       "Stormcaller                      Aeliru63     21-25  \n",
       "Stormcaller                  Ithesuphos68     21-25  \n",
       "Stormcaller                    Tyalaesu89     26-30  \n",
       "Stormcaller                     Undirra73     21-25  \n",
       "Stormcaller                    Iskimnya76     21-25  \n",
       "Stormcaller                       Eusur90     16-20  \n",
       "Spectral Diamond Doomblade    Undirrala66     26-30  \n",
       "Spectral Diamond Doomblade       Ilogha82     21-25  \n",
       "Spectral Diamond Doomblade         Aeri84     16-20  \n",
       "Spectral Diamond Doomblade   Raerithsti62     16-20  \n",
       "Spectral Diamond Doomblade         Euna48     21-25  \n",
       "Spectral Diamond Doomblade        Reula64     16-20  \n",
       "Spectral Diamond Doomblade        Aeral85     21-25  \n",
       "Orenmir                      Saistyphos30     31-35  \n",
       "Orenmir                     Frichaststa61     21-25  \n",
       "Orenmir                         Qiluard68     16-20  \n",
       "Orenmir                        Aeliriam77     16-20  \n",
       "Orenmir                       Palurrian69     11-15  \n",
       "Orenmir                        Tyarithn67     26-30  "
      ]
     },
     "execution_count": 75,
     "metadata": {},
     "output_type": "execute_result"
    }
   ],
   "source": [
    "names_df = purchase_data_df.set_index('Item Name')\n",
    "top_items_df = names_df.loc[top_index,:]\n",
    "top_items_df.reset_index"
   ]
  },
  {
   "cell_type": "code",
   "execution_count": null,
   "metadata": {},
   "outputs": [],
   "source": []
  }
 ],
 "metadata": {
  "kernelspec": {
   "display_name": "Python 3",
   "language": "python",
   "name": "python3"
  },
  "language_info": {
   "codemirror_mode": {
    "name": "ipython",
    "version": 3
   },
   "file_extension": ".py",
   "mimetype": "text/x-python",
   "name": "python",
   "nbconvert_exporter": "python",
   "pygments_lexer": "ipython3",
   "version": "3.6.4"
  }
 },
 "nbformat": 4,
 "nbformat_minor": 2
}
